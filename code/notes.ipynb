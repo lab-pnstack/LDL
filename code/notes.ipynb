{
 "cells": [
  {
   "cell_type": "code",
   "execution_count": 1,
   "metadata": {},
   "outputs": [],
   "source": [
    "# library\n",
    "# standard library\n",
    "import os, sys\n",
    "\n",
    "# third-party library\n",
    "import numpy as np\n",
    "import collections\n",
    "import torch\n",
    "import torch.nn as nn\n",
    "import torch.nn.functional as F\n",
    "from torchvision import transforms\n",
    "from torch.utils.data import DataLoader\n",
    "from dataset import dataset_processing\n",
    "from timeit import default_timer as timer\n",
    "from utils.report import report_precision_se_sp_yi, report_mae_mse\n",
    "from utils.utils import Logger, AverageMeter, time_to_str, weights_init\n",
    "from utils.genLD import genLD\n",
    "from model.resnet50 import resnet50\n",
    "import torch.backends.cudnn as cudnn\n",
    "from transforms.affine_transforms import *\n",
    "import time\n",
    "import warnings\n",
    "warnings.filterwarnings(\"ignore\")\n",
    "import os\n",
    "os.environ[\"CUDA_VISIBLE_DEVICES\"] = \"0\""
   ]
  },
  {
   "cell_type": "code",
   "execution_count": 2,
   "metadata": {},
   "outputs": [],
   "source": [
    "cnn = resnet50().cuda()      \n",
    "checkpoint = torch.load('model_checkpoint.pth')\n",
    "cnn.load_state_dict(checkpoint['model_state_dict'])\n",
    "init_epoch = checkpoint['epoch']\n"
   ]
  },
  {
   "cell_type": "code",
   "execution_count": 3,
   "metadata": {},
   "outputs": [
    {
     "data": {
      "text/plain": [
       "110"
      ]
     },
     "execution_count": 3,
     "metadata": {},
     "output_type": "execute_result"
    }
   ],
   "source": [
    "init_epoch"
   ]
  },
  {
   "cell_type": "code",
   "execution_count": 4,
   "metadata": {},
   "outputs": [],
   "source": [
    "LR = 0.001     "
   ]
  },
  {
   "cell_type": "code",
   "execution_count": 5,
   "metadata": {},
   "outputs": [],
   "source": [
    "params = []\n",
    "new_param_names = ['fc', 'counting']\n",
    "for key, value in dict(cnn.named_parameters()).items():\n",
    "    if value.requires_grad:\n",
    "        if any(i in key for i in new_param_names):\n",
    "            params += [{'params': [value], 'lr': LR * 1.0, 'weight_decay': 5e-4}]\n",
    "        else:\n",
    "            params += [{'params': [value], 'lr': LR * 1.0, 'weight_decay': 5e-4}]\n",
    "\n",
    "optimizer = torch.optim.SGD(params, momentum=0.9)  #\n",
    "\n",
    "optimizer.load_state_dict(checkpoint['optimizer_state_dict'])"
   ]
  },
  {
   "cell_type": "code",
   "execution_count": 6,
   "metadata": {},
   "outputs": [],
   "source": [
    "cnn.eval()"
   ]
  },
  {
   "cell_type": "code",
   "execution_count": 7,
   "metadata": {},
   "outputs": [],
   "source": [
    "preprocess = transforms.Compose([\n",
    "    transforms.Resize((224, 224)),\n",
    "    transforms.ToTensor(),\n",
    "    transforms.Normalize(mean=[0.45815152, 0.361242, 0.29348266],\n",
    "                             std=[0.2814769, 0.226306, 0.20132513])\n",
    "  ])"
   ]
  },
  {
   "cell_type": "code",
   "execution_count": 8,
   "metadata": {},
   "outputs": [],
   "source": [
    "cross_val_index = \"0\""
   ]
  },
  {
   "cell_type": "code",
   "execution_count": 9,
   "metadata": {},
   "outputs": [],
   "source": [
    "DATA_PATH = 'Classification/Classification/JPEGImages'\n"
   ]
  },
  {
   "cell_type": "code",
   "execution_count": 10,
   "metadata": {},
   "outputs": [],
   "source": [
    "TRAIN_FILE = 'Detection/Detection/VOC2007/ImageSets/Main/NNEW_trainval_' + cross_val_index + '.txt'\n",
    "TEST_FILE = 'Detection/Detection/VOC2007/ImageSets/Main/NNEW_test_' + cross_val_index + '.txt'"
   ]
  },
  {
   "cell_type": "code",
   "execution_count": 11,
   "metadata": {},
   "outputs": [],
   "source": [
    "normalize = transforms.Normalize(mean=[0.45815152, 0.361242, 0.29348266],\n",
    "                                     std=[0.2814769, 0.226306, 0.20132513])"
   ]
  },
  {
   "cell_type": "code",
   "execution_count": 12,
   "metadata": {},
   "outputs": [],
   "source": [
    "dset_test = dataset_processing.DatasetProcessing(\n",
    "    DATA_PATH, TEST_FILE, transform=transforms.Compose([\n",
    "            transforms.Resize((224, 224)),\n",
    "            transforms.ToTensor(),\n",
    "            normalize,\n",
    "        ]))"
   ]
  },
  {
   "cell_type": "code",
   "execution_count": 13,
   "metadata": {},
   "outputs": [],
   "source": [
    "BATCH_SIZE = 32\n",
    "NUM_WORKERS = 12\n",
    "BATCH_SIZE_TEST = 20\n"
   ]
  },
  {
   "cell_type": "code",
   "execution_count": 14,
   "metadata": {},
   "outputs": [],
   "source": [
    "test_loader = DataLoader(dset_test,\n",
    "                             batch_size=BATCH_SIZE_TEST,\n",
    "                             shuffle=False,\n",
    "                             num_workers=NUM_WORKERS,\n",
    "                             pin_memory=True)"
   ]
  },
  {
   "cell_type": "code",
   "execution_count": null,
   "metadata": {},
   "outputs": [],
   "source": []
  },
  {
   "cell_type": "code",
   "execution_count": 15,
   "metadata": {},
   "outputs": [],
   "source": [
    "test_dt = next(iter(test_loader))"
   ]
  },
  {
   "cell_type": "code",
   "execution_count": 26,
   "metadata": {},
   "outputs": [
    {
     "data": {
      "text/plain": [
       "['levle0_451.jpg',\n",
       " 'levle0_498.jpg',\n",
       " 'levle0_485.jpg',\n",
       " 'levle0_218.jpg',\n",
       " 'levle1_344.jpg',\n",
       " 'levle0_302.jpg',\n",
       " 'levle1_413.jpg',\n",
       " 'levle0_210.jpg',\n",
       " 'levle0_11.jpg',\n",
       " 'levle0_83.jpg',\n",
       " 'levle0_319.jpg',\n",
       " 'levle0_64.jpg',\n",
       " 'levle0_103.jpg',\n",
       " 'levle0_213.jpg',\n",
       " 'levle0_504.jpg',\n",
       " 'levle0_432.jpg',\n",
       " 'levle0_178.jpg',\n",
       " 'levle0_202.jpg',\n",
       " 'levle0_112.jpg',\n",
       " 'levle0_241.jpg']"
      ]
     },
     "execution_count": 26,
     "metadata": {},
     "output_type": "execute_result"
    }
   ],
   "source": [
    "test_dt[3]"
   ]
  },
  {
   "cell_type": "code",
   "execution_count": 16,
   "metadata": {},
   "outputs": [
    {
     "data": {
      "text/plain": [
       "tensor([0, 0, 0, 0, 0, 0, 0, 0, 0, 0, 0, 0, 0, 0, 0, 0, 0, 0, 0, 0],\n",
       "       dtype=torch.int32)"
      ]
     },
     "execution_count": 16,
     "metadata": {},
     "output_type": "execute_result"
    }
   ],
   "source": [
    "test_dt[1]"
   ]
  },
  {
   "cell_type": "code",
   "execution_count": 17,
   "metadata": {},
   "outputs": [
    {
     "data": {
      "text/plain": [
       "tensor([2, 1, 3, 2, 4, 2, 4, 2, 3, 1, 2, 2, 2, 2, 4, 2, 1, 2, 1, 2],\n",
       "       dtype=torch.int32)"
      ]
     },
     "execution_count": 17,
     "metadata": {},
     "output_type": "execute_result"
    }
   ],
   "source": [
    "test_dt[2]"
   ]
  },
  {
   "cell_type": "code",
   "execution_count": 18,
   "metadata": {},
   "outputs": [
    {
     "data": {
      "text/plain": [
       "tensor([[[[-1.4605, -1.4883, -1.5023,  ..., -1.4883, -1.4744, -1.4744],\n",
       "          [-1.4744, -1.4883, -1.5023,  ..., -1.4744, -1.4744, -1.4605],\n",
       "          [-1.4744, -1.4883, -1.5023,  ..., -1.4744, -1.4744, -1.4744],\n",
       "          ...,\n",
       "          [-1.6277, -1.6277, -1.6277,  ..., -1.6277, -1.6277, -1.6277],\n",
       "          [-1.6277, -1.6277, -1.6277,  ..., -1.6277, -1.6277, -1.6277],\n",
       "          [-1.6277, -1.6277, -1.6277,  ..., -1.6277, -1.6277, -1.6277]],\n",
       "\n",
       "         [[-1.3883, -1.4230, -1.4403,  ..., -1.4230, -1.4056, -1.4056],\n",
       "          [-1.4056, -1.4230, -1.4403,  ..., -1.4056, -1.4056, -1.3883],\n",
       "          [-1.4056, -1.4230, -1.4403,  ..., -1.4056, -1.4056, -1.4056],\n",
       "          ...,\n",
       "          [-1.5963, -1.5963, -1.5963,  ..., -1.5963, -1.5963, -1.5963],\n",
       "          [-1.5963, -1.5963, -1.5963,  ..., -1.5963, -1.5963, -1.5963],\n",
       "          [-1.5963, -1.5963, -1.5963,  ..., -1.5963, -1.5963, -1.5963]],\n",
       "\n",
       "         [[-1.2240, -1.2630, -1.2824,  ..., -1.2630, -1.2435, -1.2630],\n",
       "          [-1.2435, -1.2630, -1.2824,  ..., -1.2630, -1.2630, -1.2630],\n",
       "          [-1.2435, -1.2630, -1.2824,  ..., -1.2435, -1.2630, -1.2630],\n",
       "          ...,\n",
       "          [-1.4578, -1.4578, -1.4578,  ..., -1.4578, -1.4578, -1.4578],\n",
       "          [-1.4578, -1.4578, -1.4578,  ..., -1.4578, -1.4578, -1.4578],\n",
       "          [-1.4578, -1.4578, -1.4578,  ..., -1.4578, -1.4578, -1.4578]]],\n",
       "\n",
       "\n",
       "        [[[-1.3769, -1.3490, -1.3490,  ..., -0.8614, -0.8614, -0.8893],\n",
       "          [-1.2933, -1.3351, -1.4048,  ..., -0.8614, -0.8753, -0.8893],\n",
       "          [-1.3490, -1.3908, -1.4048,  ..., -0.8753, -0.8893, -0.8893],\n",
       "          ...,\n",
       "          [-1.0982, -1.0982, -1.0565,  ...,  0.4482,  0.4482,  0.4482],\n",
       "          [-1.0704, -1.1540, -1.0843,  ...,  0.4621,  0.4621,  0.4621],\n",
       "          [-1.0147, -1.1261, -1.1400,  ...,  0.4343,  0.4204,  0.4064]],\n",
       "\n",
       "         [[-1.3537, -1.3363, -1.3363,  ..., -0.7125, -0.7298, -0.7472],\n",
       "          [-1.3363, -1.3363, -1.3710,  ..., -0.7298, -0.7298, -0.7298],\n",
       "          [-1.3190, -1.3710, -1.3710,  ..., -0.6952, -0.7125, -0.7125],\n",
       "          ...,\n",
       "          [-1.1804, -1.1977, -1.1630,  ...,  0.8471,  0.8298,  0.8298],\n",
       "          [-1.1804, -1.2670, -1.2150,  ...,  0.8471,  0.8471,  0.8471],\n",
       "          [-1.1630, -1.2497, -1.2670,  ...,  0.8124,  0.8124,  0.7778]],\n",
       "\n",
       "         [[-1.2435, -1.2435, -1.2435,  ..., -0.6591, -0.6396, -0.6396],\n",
       "          [-1.2240, -1.2240, -1.2630,  ..., -0.6981, -0.6786, -0.6786],\n",
       "          [-1.2240, -1.2824, -1.2824,  ..., -0.6786, -0.6981, -0.6981],\n",
       "          ...,\n",
       "          [-1.1851, -1.2045, -1.1461,  ...,  1.1134,  1.0940,  1.0940],\n",
       "          [-1.1851, -1.2435, -1.2045,  ...,  1.1134,  1.1134,  1.1134],\n",
       "          [-1.1851, -1.2240, -1.2240,  ...,  1.0745,  1.0745,  1.0355]]],\n",
       "\n",
       "\n",
       "        [[[-0.8335, -0.8196, -0.8057,  ..., -0.8057, -0.8196, -0.8196],\n",
       "          [-0.8335, -0.8335, -0.8196,  ..., -0.8196, -0.8196, -0.8335],\n",
       "          [-0.8057, -0.7917, -0.8196,  ..., -0.8335, -0.8335, -0.8335],\n",
       "          ...,\n",
       "          [ 0.8522,  0.8383,  0.8383,  ..., -0.0951, -0.1927, -0.4016],\n",
       "          [ 0.8522,  0.8244,  0.8383,  ..., -0.0812, -0.1787, -0.3738],\n",
       "          [ 0.8662,  0.8383,  0.8244,  ..., -0.0673, -0.1648, -0.3877]],\n",
       "\n",
       "         [[-0.6778, -0.6778, -0.6952,  ..., -0.6605, -0.6605, -0.6605],\n",
       "          [-0.6778, -0.6778, -0.6605,  ..., -0.6605, -0.6605, -0.6432],\n",
       "          [-0.6952, -0.6778, -0.6778,  ..., -0.6778, -0.6605, -0.6605],\n",
       "          ...,\n",
       "          [ 0.8471,  0.8644,  0.8471,  ...,  0.1539,  0.0153, -0.2100],\n",
       "          [ 0.8298,  0.7951,  0.8124,  ...,  0.1713,  0.0326, -0.1926],\n",
       "          [ 0.8471,  0.7778,  0.7778,  ...,  0.1886,  0.0673, -0.1407]],\n",
       "\n",
       "         [[-0.6591, -0.6591, -0.6591,  ..., -0.6202, -0.6202, -0.6202],\n",
       "          [-0.6396, -0.6591, -0.6396,  ..., -0.6202, -0.6202, -0.6202],\n",
       "          [-0.6396, -0.6591, -0.6591,  ..., -0.6396, -0.6202, -0.6396],\n",
       "          ...,\n",
       "          [ 0.3733,  0.3927,  0.3343,  ...,  0.4706,  0.3148,  0.0616],\n",
       "          [ 0.3538,  0.3343,  0.3343,  ...,  0.4901,  0.3343,  0.0616],\n",
       "          [ 0.3733,  0.3148,  0.2953,  ...,  0.5096,  0.3538,  0.1005]]],\n",
       "\n",
       "\n",
       "        ...,\n",
       "\n",
       "\n",
       "        [[[-1.4466, -1.4605, -1.4326,  ..., -1.1958, -1.1261, -1.0565],\n",
       "          [-1.4466, -1.4605, -1.4326,  ..., -1.1958, -1.1261, -1.0425],\n",
       "          [-1.4605, -1.4466, -1.4326,  ..., -1.1818, -1.1261, -1.0565],\n",
       "          ...,\n",
       "          [-0.6106, -0.4713, -0.2623,  ...,  0.5179,  0.3228,  0.3368],\n",
       "          [-0.8057, -0.6106, -0.3877,  ...,  0.5597,  0.4064,  0.2810],\n",
       "          [-0.9450, -0.7082, -0.4713,  ...,  0.6015,  0.4761,  0.3089]],\n",
       "\n",
       "         [[-1.3883, -1.4056, -1.4056,  ..., -1.0937, -0.9898, -0.9031],\n",
       "          [-1.3883, -1.4056, -1.3883,  ..., -1.0937, -0.9898, -0.8858],\n",
       "          [-1.4056, -1.3883, -1.3710,  ..., -1.0937, -0.9898, -0.8858],\n",
       "          ...,\n",
       "          [-0.8858, -0.7645, -0.5046,  ...,  0.8644,  0.6391,  0.6738],\n",
       "          [-1.0764, -0.9031, -0.6605,  ...,  0.9684,  0.7431,  0.6045],\n",
       "          [-1.2324, -1.0071, -0.7645,  ...,  1.0030,  0.8644,  0.6218]],\n",
       "\n",
       "         [[-1.2630, -1.2824, -1.2630,  ..., -0.9708, -0.8734, -0.7565],\n",
       "          [-1.2630, -1.2824, -1.2435,  ..., -0.9708, -0.8539, -0.7370],\n",
       "          [-1.2824, -1.2630, -1.2435,  ..., -0.9708, -0.8539, -0.7370],\n",
       "          ...,\n",
       "          [-1.0682, -0.9903, -0.8344,  ...,  1.2693,  1.0161,  1.0550],\n",
       "          [-1.1656, -1.0877, -0.9123,  ...,  1.4056,  1.1329,  0.9771],\n",
       "          [-1.2630, -1.1266, -0.9903,  ...,  1.4446,  1.2693,  0.9966]]],\n",
       "\n",
       "\n",
       "        [[[-1.0007, -0.9868, -0.9868,  ..., -0.9450, -0.9450, -0.9450],\n",
       "          [-1.0007, -0.9868, -0.9868,  ..., -0.9450, -0.9450, -0.9450],\n",
       "          [-1.0007, -1.0007, -1.0007,  ..., -0.9589, -0.9450, -0.9450],\n",
       "          ...,\n",
       "          [-0.8753, -0.9032, -0.8614,  ..., -1.0843, -1.1400, -1.0147],\n",
       "          [-0.6385, -0.7221, -0.8196,  ..., -1.0843, -1.1958, -1.1679],\n",
       "          [-0.5688, -0.5967, -0.7499,  ..., -0.8893, -1.1400, -1.2097]],\n",
       "\n",
       "         [[-1.1284, -1.1284, -1.1284,  ..., -1.0417, -1.0417, -1.0417],\n",
       "          [-1.1111, -1.1284, -1.1284,  ..., -1.0417, -1.0417, -1.0417],\n",
       "          [-1.1111, -1.1111, -1.1111,  ..., -1.0591, -1.0417, -1.0417],\n",
       "          ...,\n",
       "          [-0.7298, -0.7818, -0.7472,  ..., -0.9724, -1.0244, -0.8685],\n",
       "          [-0.5392, -0.6085, -0.6952,  ..., -0.9724, -1.0937, -1.0417],\n",
       "          [-0.5046, -0.4872, -0.6085,  ..., -0.7645, -1.0417, -1.1111]],\n",
       "\n",
       "         [[-1.0877, -1.0682, -1.0682,  ..., -0.9903, -0.9903, -0.9903],\n",
       "          [-1.0877, -1.0682, -1.0682,  ..., -0.9903, -0.9903, -0.9903],\n",
       "          [-1.1071, -1.1071, -1.0682,  ..., -1.0097, -1.0097, -1.0292],\n",
       "          ...,\n",
       "          [-0.2695, -0.3085, -0.3085,  ..., -0.4059, -0.4059, -0.2501],\n",
       "          [-0.1137, -0.1527, -0.2111,  ..., -0.4059, -0.5228, -0.4449],\n",
       "          [-0.0553, -0.0553, -0.1332,  ..., -0.2306, -0.5228, -0.5812]]],\n",
       "\n",
       "\n",
       "        [[[-0.9311, -1.0704, -1.3908,  ..., -1.0843, -1.0982, -1.1261],\n",
       "          [-1.1679, -1.3769, -1.4466,  ..., -1.0704, -1.0843, -1.0982],\n",
       "          [-1.4048, -1.4187, -1.3769,  ..., -1.0843, -1.0982, -1.0982],\n",
       "          ...,\n",
       "          [ 0.6154,  0.6015,  0.6015,  ..., -1.5023, -1.5162, -1.5162],\n",
       "          [ 0.6433,  0.6293,  0.6154,  ..., -1.5023, -1.4883, -1.5023],\n",
       "          [ 0.6572,  0.6293,  0.5875,  ..., -1.4883, -1.4883, -1.4883]],\n",
       "\n",
       "         [[-0.7991, -0.9031, -1.2670,  ..., -0.9551, -0.9551, -0.9724],\n",
       "          [-1.0244, -1.2843, -1.3883,  ..., -0.9378, -0.9551, -0.9724],\n",
       "          [-1.3363, -1.3710, -1.3363,  ..., -0.9378, -0.9551, -0.9724],\n",
       "          ...,\n",
       "          [ 0.6218,  0.6218,  0.6045,  ..., -1.4403, -1.4576, -1.4576],\n",
       "          [ 0.6565,  0.6391,  0.6218,  ..., -1.4403, -1.4403, -1.4403],\n",
       "          [ 0.6565,  0.6391,  0.6045,  ..., -1.4403, -1.4403, -1.4230]],\n",
       "\n",
       "         [[-0.7565, -0.8344, -1.1266,  ..., -0.8734, -0.8929, -0.8929],\n",
       "          [-0.9123, -1.1461, -1.2435,  ..., -0.8539, -0.8539, -0.8734],\n",
       "          [-1.1851, -1.2240, -1.1851,  ..., -0.8539, -0.8734, -0.8929],\n",
       "          ...,\n",
       "          [ 0.1590,  0.1200,  0.1590,  ..., -1.3214, -1.3409, -1.3409],\n",
       "          [ 0.1979,  0.1785,  0.1979,  ..., -1.3214, -1.3214, -1.3214],\n",
       "          [ 0.1979,  0.1785,  0.1395,  ..., -1.3214, -1.3214, -1.3019]]]])"
      ]
     },
     "execution_count": 18,
     "metadata": {},
     "output_type": "execute_result"
    }
   ],
   "source": [
    "test_dt[0]"
   ]
  },
  {
   "cell_type": "code",
   "execution_count": 19,
   "metadata": {},
   "outputs": [
    {
     "name": "stderr",
     "output_type": "stream",
     "text": [
      "Clipping input data to the valid range for imshow with RGB data ([0..1] for floats or [0..255] for integers).\n"
     ]
    },
    {
     "data": {
      "image/png": "[encoded data removed]",
      "text/plain": [
       "<Figure size 640x480 with 1 Axes>"
      ]
     },
     "metadata": {},
     "output_type": "display_data"
    }
   ],
   "source": [
    "# show the image\n",
    "import matplotlib.pyplot as plt\n",
    "plt.imshow(test_dt[0][0].numpy().transpose(1,2,0))\n",
    "plt.show()\n"
   ]
  },
  {
   "cell_type": "code",
   "execution_count": 20,
   "metadata": {},
   "outputs": [],
   "source": [
    "test_x = test_dt[0].cuda()\n",
    "\n",
    "cls, cou, cou2cls = cnn(test_x, None)\n"
   ]
  },
  {
   "cell_type": "code",
   "execution_count": 59,
   "metadata": {},
   "outputs": [
    {
     "name": "stdout",
     "output_type": "stream",
     "text": [
      "tensor([[5.9725e-01, 4.0216e-01, 8.8662e-04, 1.0158e-04],\n",
      "        [8.7390e-01, 1.2629e-01, 1.0795e-04, 1.0001e-04],\n",
      "        [7.6391e-01, 2.3618e-01, 2.0647e-04, 1.0005e-04],\n",
      "        [8.3672e-01, 1.6338e-01, 1.9623e-04, 1.0029e-04],\n",
      "        [7.8814e-01, 2.1196e-01, 2.0084e-04, 1.0025e-04],\n",
      "        [7.6206e-01, 2.3811e-01, 1.3445e-04, 1.0003e-04],\n",
      "        [6.9829e-01, 3.0185e-01, 1.6080e-04, 1.0001e-04],\n",
      "        [5.2397e-01, 4.7614e-01, 1.9714e-04, 1.0001e-04],\n",
      "        [9.4801e-01, 5.2187e-02, 1.0331e-04, 1.0000e-04],\n",
      "        [8.5660e-01, 1.4355e-01, 1.4789e-04, 1.0002e-04],\n",
      "        [6.3925e-01, 3.6084e-01, 2.1227e-04, 1.0007e-04],\n",
      "        [5.4588e-01, 4.5430e-01, 1.2674e-04, 1.0000e-04],\n",
      "        [8.9161e-01, 1.0858e-01, 1.1078e-04, 1.0001e-04],\n",
      "        [8.5348e-01, 1.4670e-01, 1.2033e-04, 1.0001e-04],\n",
      "        [6.2008e-01, 3.8005e-01, 1.7278e-04, 1.0002e-04],\n",
      "        [7.5137e-01, 2.4876e-01, 1.6774e-04, 1.0009e-04],\n",
      "        [7.0249e-01, 2.9754e-01, 2.6903e-04, 1.0051e-04],\n",
      "        [8.4859e-01, 1.5160e-01, 1.1321e-04, 1.0001e-04],\n",
      "        [8.6241e-01, 1.3779e-01, 1.0878e-04, 1.0000e-04],\n",
      "        [4.6103e-01, 5.3890e-01, 3.7652e-04, 1.0022e-04]], device='cuda:0')\n"
     ]
    }
   ],
   "source": [
    "print(cls)"
   ]
  },
  {
   "cell_type": "code",
   "execution_count": null,
   "metadata": {},
   "outputs": [],
   "source": []
  },
  {
   "cell_type": "code",
   "execution_count": 61,
   "metadata": {},
   "outputs": [
    {
     "data": {
      "text/plain": [
       "torch.return_types.max(\n",
       "values=tensor([0.5973, 0.8739, 0.7639, 0.8367, 0.7881, 0.7621, 0.6983, 0.5240, 0.9480,\n",
       "        0.8566, 0.6392, 0.5459, 0.8916, 0.8535, 0.6201, 0.7514, 0.7025, 0.8486,\n",
       "        0.8624, 0.5389], device='cuda:0'),\n",
       "indices=tensor([0, 0, 0, 0, 0, 0, 0, 0, 0, 0, 0, 0, 0, 0, 0, 0, 0, 0, 0, 1],\n",
       "       device='cuda:0'))"
      ]
     },
     "execution_count": 61,
     "metadata": {},
     "output_type": "execute_result"
    }
   ],
   "source": [
    "_label = torch.max(cls, 1)\n",
    "_label"
   ]
  },
  {
   "cell_type": "code",
   "execution_count": null,
   "metadata": {},
   "outputs": [],
   "source": []
  },
  {
   "cell_type": "code",
   "execution_count": 21,
   "metadata": {},
   "outputs": [
    {
     "name": "stdout",
     "output_type": "stream",
     "text": [
      "tensor([[0.5811, 0.4208, 0.0031, 0.0015],\n",
      "        [0.8720, 0.1300, 0.0030, 0.0015],\n",
      "        [0.7491, 0.2529, 0.0030, 0.0015],\n",
      "        [0.8244, 0.1776, 0.0030, 0.0015],\n",
      "        [0.7768, 0.2252, 0.0030, 0.0015],\n",
      "        [0.7503, 0.2517, 0.0030, 0.0015],\n",
      "        [0.6739, 0.3281, 0.0030, 0.0015],\n",
      "        [0.4861, 0.5159, 0.0030, 0.0015],\n",
      "        [0.9386, 0.0634, 0.0030, 0.0015],\n",
      "        [0.8468, 0.1552, 0.0030, 0.0015],\n",
      "        [0.6231, 0.3789, 0.0030, 0.0015],\n",
      "        [0.5386, 0.4634, 0.0030, 0.0015],\n",
      "        [0.8791, 0.1229, 0.0030, 0.0015],\n",
      "        [0.8454, 0.1566, 0.0030, 0.0015],\n",
      "        [0.5826, 0.4194, 0.0030, 0.0015],\n",
      "        [0.7308, 0.2712, 0.0030, 0.0015],\n",
      "        [0.6804, 0.3215, 0.0030, 0.0015],\n",
      "        [0.8191, 0.1829, 0.0030, 0.0015],\n",
      "        [0.8302, 0.1718, 0.0030, 0.0015],\n",
      "        [0.4566, 0.5453, 0.0030, 0.0015]], device='cuda:0',\n",
      "       grad_fn=<StackBackward0>)\n"
     ]
    }
   ],
   "source": [
    "# Kiểu mối quan hệ giữa số lượng đếm và label dự đoán.\n",
    "print(cou2cls)"
   ]
  },
  {
   "cell_type": "code",
   "execution_count": 62,
   "metadata": {},
   "outputs": [
    {
     "data": {
      "text/plain": [
       "torch.return_types.max(\n",
       "values=tensor([0.5811, 0.8720, 0.7491, 0.8244, 0.7768, 0.7503, 0.6739, 0.5159, 0.9386,\n",
       "        0.8468, 0.6231, 0.5386, 0.8791, 0.8454, 0.5826, 0.7308, 0.6804, 0.8191,\n",
       "        0.8302, 0.5453], device='cuda:0'),\n",
       "indices=tensor([0, 0, 0, 0, 0, 0, 0, 1, 0, 0, 0, 0, 0, 0, 0, 0, 0, 0, 0, 1],\n",
       "       device='cuda:0'))"
      ]
     },
     "execution_count": 62,
     "metadata": {},
     "output_type": "execute_result"
    }
   ],
   "source": [
    "_cou2cls = torch.max(cou2cls, 1)\n",
    "_cou2cls"
   ]
  },
  {
   "cell_type": "code",
   "execution_count": null,
   "metadata": {},
   "outputs": [],
   "source": []
  },
  {
   "cell_type": "code",
   "execution_count": 22,
   "metadata": {},
   "outputs": [
    {
     "name": "stdout",
     "output_type": "stream",
     "text": [
      "tensor([[8.5655e-02, 1.0657e-01, 1.2485e-01,  ..., 1.0017e-04, 1.0022e-04,\n",
      "         1.0023e-04],\n",
      "        [2.2121e-01, 2.1592e-01, 1.8995e-01,  ..., 1.0000e-04, 1.0000e-04,\n",
      "         1.0000e-04],\n",
      "        [1.4535e-01, 1.6257e-01, 1.6540e-01,  ..., 1.0000e-04, 1.0000e-04,\n",
      "         1.0001e-04],\n",
      "        ...,\n",
      "        [1.7630e-01, 1.8863e-01, 1.7669e-01,  ..., 1.0000e-04, 1.0000e-04,\n",
      "         1.0000e-04],\n",
      "        [1.8443e-01, 1.9630e-01, 1.8288e-01,  ..., 1.0000e-04, 1.0000e-04,\n",
      "         1.0000e-04],\n",
      "        [5.7886e-02, 7.4905e-02, 9.4501e-02,  ..., 1.0003e-04, 1.0004e-04,\n",
      "         1.0005e-04]], device='cuda:0', grad_fn=<AddBackward0>)\n"
     ]
    }
   ],
   "source": [
    "print(cou)"
   ]
  },
  {
   "cell_type": "code",
   "execution_count": 63,
   "metadata": {},
   "outputs": [
    {
     "name": "stdout",
     "output_type": "stream",
     "text": [
      "torch.Size([20, 65])\n"
     ]
    }
   ],
   "source": [
    "print(cou.shape)"
   ]
  },
  {
   "cell_type": "code",
   "execution_count": 23,
   "metadata": {},
   "outputs": [],
   "source": [
    "_, preds_l = torch.max(cou, 1)"
   ]
  },
  {
   "cell_type": "code",
   "execution_count": 24,
   "metadata": {},
   "outputs": [
    {
     "data": {
      "text/plain": [
       "tensor([4, 0, 2, 1, 1, 1, 3, 4, 0, 0, 3, 4, 0, 0, 4, 2, 3, 1, 1, 5],\n",
       "       device='cuda:0')"
      ]
     },
     "execution_count": 24,
     "metadata": {},
     "output_type": "execute_result"
    }
   ],
   "source": [
    "preds_l"
   ]
  },
  {
   "cell_type": "code",
   "execution_count": 27,
   "metadata": {},
   "outputs": [
    {
     "data": {
      "text/plain": [
       "tensor([2, 1, 3, 2, 4, 2, 4, 2, 3, 1, 2, 2, 2, 2, 4, 2, 1, 2, 1, 2],\n",
       "       dtype=torch.int32)"
      ]
     },
     "execution_count": 27,
     "metadata": {},
     "output_type": "execute_result"
    }
   ],
   "source": [
    "test_dt[2]"
   ]
  },
  {
   "cell_type": "code",
   "execution_count": 33,
   "metadata": {},
   "outputs": [
    {
     "data": {
      "text/plain": [
       "tensor(3, device='cuda:0')"
      ]
     },
     "execution_count": 33,
     "metadata": {},
     "output_type": "execute_result"
    }
   ],
   "source": [
    "# acc\n",
    "corrects = torch.sum(preds_l == test_dt[2].cuda())\n",
    "corrects"
   ]
  },
  {
   "cell_type": "code",
   "execution_count": 34,
   "metadata": {},
   "outputs": [
    {
     "data": {
      "text/plain": [
       "tensor(0.1500, device='cuda:0')"
      ]
     },
     "execution_count": 34,
     "metadata": {},
     "output_type": "execute_result"
    }
   ],
   "source": [
    "corrects/len(test_dt[2])"
   ]
  },
  {
   "cell_type": "code",
   "execution_count": null,
   "metadata": {},
   "outputs": [],
   "source": []
  },
  {
   "cell_type": "code",
   "execution_count": 25,
   "metadata": {},
   "outputs": [
    {
     "name": "stdout",
     "output_type": "stream",
     "text": [
      "tensor([[5.9725e-01, 4.0216e-01, 8.8662e-04, 1.0158e-04],\n",
      "        [8.7390e-01, 1.2629e-01, 1.0795e-04, 1.0001e-04],\n",
      "        [7.6391e-01, 2.3618e-01, 2.0647e-04, 1.0005e-04],\n",
      "        [8.3672e-01, 1.6338e-01, 1.9623e-04, 1.0029e-04],\n",
      "        [7.8814e-01, 2.1196e-01, 2.0084e-04, 1.0025e-04],\n",
      "        [7.6206e-01, 2.3811e-01, 1.3445e-04, 1.0003e-04],\n",
      "        [6.9829e-01, 3.0185e-01, 1.6080e-04, 1.0001e-04],\n",
      "        [5.2397e-01, 4.7614e-01, 1.9714e-04, 1.0001e-04],\n",
      "        [9.4801e-01, 5.2187e-02, 1.0331e-04, 1.0000e-04],\n",
      "        [8.5660e-01, 1.4355e-01, 1.4789e-04, 1.0002e-04],\n",
      "        [6.3925e-01, 3.6084e-01, 2.1227e-04, 1.0007e-04],\n",
      "        [5.4588e-01, 4.5430e-01, 1.2674e-04, 1.0000e-04],\n",
      "        [8.9161e-01, 1.0858e-01, 1.1078e-04, 1.0001e-04],\n",
      "        [8.5348e-01, 1.4670e-01, 1.2033e-04, 1.0001e-04],\n",
      "        [6.2008e-01, 3.8005e-01, 1.7278e-04, 1.0002e-04],\n",
      "        [7.5137e-01, 2.4876e-01, 1.6774e-04, 1.0009e-04],\n",
      "        [7.0249e-01, 2.9754e-01, 2.6903e-04, 1.0051e-04],\n",
      "        [8.4859e-01, 1.5160e-01, 1.1321e-04, 1.0001e-04],\n",
      "        [8.6241e-01, 1.3779e-01, 1.0878e-04, 1.0000e-04],\n",
      "        [4.6103e-01, 5.3890e-01, 3.7652e-04, 1.0022e-04]], device='cuda:0',\n",
      "       grad_fn=<AddBackward0>)\n"
     ]
    }
   ],
   "source": []
  },
  {
   "cell_type": "code",
   "execution_count": 38,
   "metadata": {},
   "outputs": [],
   "source": [
    "loss_func = nn.CrossEntropyLoss().cuda()\n",
    "epoch = init_epoch"
   ]
  },
  {
   "cell_type": "code",
   "execution_count": 46,
   "metadata": {},
   "outputs": [],
   "source": [
    "LOG_FILE_NAME = './logs/log_' + time.strftime(\"%Y-%m-%d_%H-%M-%S\", time.localtime()) + '.log'\n"
   ]
  },
  {
   "cell_type": "code",
   "execution_count": 47,
   "metadata": {},
   "outputs": [],
   "source": [
    "log = Logger()\n",
    "log.open(LOG_FILE_NAME, mode=\"a\")\n"
   ]
  },
  {
   "cell_type": "code",
   "execution_count": 58,
   "metadata": {},
   "outputs": [
    {
     "name": "stdout",
     "output_type": "stream",
     "text": [
      "preds_l [5 1 3 2 2 2 4 5 1 1 4 5 1 1 5 3 4 2 2 6]\n",
      "test_l tensor([2, 1, 3, 2, 4, 2, 4, 2, 3, 1, 2, 2, 2, 2, 4, 2, 1, 2, 1, 2],\n",
      "       dtype=torch.int32)\n",
      "preds tensor([0, 0, 0, 0, 0, 0, 0, 0, 0, 0, 0, 0, 0, 0, 0, 0, 0, 0, 0, 1],\n",
      "       device='cuda:0')\n",
      "test_y tensor([0, 0, 0, 0, 0, 0, 0, 0, 0, 0, 0, 0, 0, 0, 0, 0, 0, 0, 0, 0],\n",
      "       device='cuda:0', dtype=torch.int32)\n",
      "batch_corrects 19\n",
      "test_corrects 19\n",
      "count_corrects 7\n",
      "count_mse 69\n",
      "Len 292\n",
      "count_corrects 0.023972602739726026\n",
      "            Precision        SE        SP        YI\n",
      "     class0    1.0000    0.9500    0.0000   -0.0500\n",
      "avg / total    1.0000    0.4750    0.4750   -0.0500\n",
      "              AVE_ACC           0.9500\n",
      "\n",
      "            Precision        SE        SP        YI\n",
      "     class0    1.0000    0.9500    0.0000   -0.0500\n",
      "avg / total    1.0000    0.4750    0.4750   -0.0500\n",
      "              AVE_ACC           0.9500\n",
      "\n",
      "                  MAE       MSE\n",
      "     class0    1.3500    1.8574\n",
      "avg / total    1.3500    1.8574\n",
      "\n"
     ]
    }
   ],
   "source": [
    "with torch.no_grad():\n",
    "    test_loss = 0\n",
    "    test_corrects = 0\n",
    "    count_corrects = 0\n",
    "    y_true = np.array([])\n",
    "    y_pred = np.array([])\n",
    "    y_pred_m = np.array([])\n",
    "    l_true = np.array([])\n",
    "    l_pred = np.array([])\n",
    "    cnn.eval()\n",
    "    for step, (test_x, test_y, test_l, test_name) in enumerate(test_loader):   # gives batch data, normalize x when iterate train_loader\n",
    "\n",
    "        test_x = test_x.cuda()\n",
    "        test_y = test_y.cuda()\n",
    "\n",
    "        y_true = np.hstack((y_true, test_y.data.cpu().numpy()))\n",
    "        l_true = np.hstack((l_true, test_l.data.cpu().numpy()))\n",
    "\n",
    "        cnn.eval()\n",
    "\n",
    "        cls, cou, cou2cls = cnn(test_x, None)\n",
    "\n",
    "\n",
    "\n",
    "        _, preds_m = torch.max(cls + cou2cls, 1)\n",
    "  \n",
    "        _, preds = torch.max(cls, 1)\n",
    "        # preds = preds.data.cpu().numpy()\n",
    "        y_pred = np.hstack((y_pred, preds.data.cpu().numpy()))\n",
    "        y_pred_m = np.hstack((y_pred_m, preds_m.data.cpu().numpy()))\n",
    "\n",
    "        _, preds_l = torch.max(cou, 1)\n",
    "        preds_l = (preds_l + 1).data.cpu().numpy()\n",
    "        # preds_l = cou2cou.data.cpu().numpy()\n",
    "        l_pred = np.hstack((l_pred, preds_l))\n",
    "\n",
    "        batch_corrects = torch.sum((preds == test_y)).data.cpu().numpy()\n",
    "        test_corrects += batch_corrects\n",
    "        print(\"preds_l\", preds_l)\n",
    "        print(\"test_l\",test_l)\n",
    "        print(\"preds\", preds)\n",
    "        print(\"test_y\", test_y)\n",
    "        \n",
    "        print('batch_corrects', batch_corrects)\n",
    "        print('test_corrects', test_corrects)\n",
    "        \n",
    "        # preds_l to tensor\n",
    "        preds_l = torch.from_numpy(preds_l).cpu()\n",
    "        count_corrects +=  torch.sum((preds_l == test_l)).data.cpu().numpy()\n",
    "        # mse preds_l and test_l\n",
    "        count_mse = torch.sum((preds_l - test_l)**2).data.cpu().numpy()\n",
    "        print('count_corrects', count_corrects)\n",
    "        print('count_mse', count_mse)\n",
    "        \n",
    "        break\n",
    "        \n",
    "    print(\"Len\", len(test_loader.dataset))\n",
    "    test_acc = test_corrects / len(test_loader.dataset)#3292  #len(test_loader)\n",
    "    message = '%s %6.1f | loss | %0.3f\\n' % ( \\\n",
    "            \"test \", epoch,\n",
    "            test_acc)\n",
    "\n",
    "    count_corrects = count_corrects / len(test_loader.dataset)\n",
    "    \n",
    "    print(\"count_corrects\", count_corrects)\n",
    "\n",
    "    _, _, pre_se_sp_yi_report = report_precision_se_sp_yi(y_pred, y_true)\n",
    "    _, _, pre_se_sp_yi_report_m = report_precision_se_sp_yi(y_pred_m, y_true)\n",
    "    _, MAE, MSE, mae_mse_report = report_mae_mse(l_true, l_pred, y_true)\n",
    "    if True:\n",
    "        log.write(str(pre_se_sp_yi_report) + '\\n')\n",
    "        log.write(str(pre_se_sp_yi_report_m) + '\\n')\n",
    "        log.write(str(mae_mse_report) + '\\n')"
   ]
  }
 ],
 "metadata": {
  "kernelspec": {
   "display_name": "venv",
   "language": "python",
   "name": "python3"
  },
  "language_info": {
   "codemirror_mode": {
    "name": "ipython",
    "version": 3
   },
   "file_extension": ".py",
   "mimetype": "text/x-python",
   "name": "python",
   "nbconvert_exporter": "python",
   "pygments_lexer": "ipython3",
   "version": "3.10.7"
  },
  "orig_nbformat": 4
 },
 "nbformat": 4,
 "nbformat_minor": 2
}
